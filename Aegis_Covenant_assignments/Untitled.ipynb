{
 "cells": [
  {
   "cell_type": "code",
   "execution_count": 60,
   "id": "0a09591d",
   "metadata": {},
   "outputs": [],
   "source": [
    "import PyPDF2\n",
    "import re"
   ]
  },
  {
   "cell_type": "code",
   "execution_count": 61,
   "id": "bab0f4c0",
   "metadata": {},
   "outputs": [
    {
     "name": "stdout",
     "output_type": "stream",
     "text": [
      "AWS of fers you a pay-as-you-go approach for pricing for the vast majority of our cloud\n",
      "services. With AWS you pay only for the individual services you need, for as long as you\n",
      "use them, and without requiring long-term contracts or complex licensing. AWS pricing\n",
      "is similar to how you pay for utilities like water and electricity . You only pay for the\n",
      "services you consume, and once you stop using them, there are no additional costs or\n",
      "termination fees\n",
      "AWS Lambda Pricing\n",
      "Id\n",
      "Architecture\n",
      "Duration\n",
      "Requests\n",
      "0\n",
      "First 6 Billion GB-seconds / month\n",
      "$0.0000166667 for\n",
      "every GB-second\n",
      "$0.20 per 1M\n",
      "requests\n",
      "1\n",
      "Next 9 Billion GB-seconds / month\n",
      "$0.000015 for every\n",
      "GB-second\n",
      "$0.20 per 1M\n",
      "requests\n",
      "2\n",
      "Over 15 Billion GB-seconds / month\n",
      "$0.0000133334 for\n",
      "every GB-second\n",
      "$0.20 per 1M\n",
      "requests\n",
      "3\n",
      "First 7.5 Billion GB-seconds / month\n",
      "$0.0000133334 for\n",
      "every GB-second\n",
      "$0.20 per 1M\n",
      "requests\n",
      "4\n",
      "Next 1 1.25 Billion GB-seconds / month\n",
      "$0.0000120001 for\n",
      "every GB-second\n",
      "$0.20 per 1M\n",
      "requests\n",
      "5\n",
      "Over 18.75 Billion GB-seconds / month\n",
      "$0.0000106667 for\n",
      "every GB-second\n",
      "$0.20 per 1M\n",
      "requests\n"
     ]
    }
   ],
   "source": [
    "with open(\"AWS_Lambda_Pricing.pdf\", 'rb') as pdfFile:\n",
    "    reader = PyPDF2.PdfReader(pdfFile)\n",
    "    page1 = reader.pages[0]\n",
    "    text = page1.extract_text()\n",
    "    print(text)"
   ]
  },
  {
   "cell_type": "code",
   "execution_count": 62,
   "id": "98e71289",
   "metadata": {},
   "outputs": [
    {
     "name": "stdout",
     "output_type": "stream",
     "text": [
      "{\n",
      "  \"output\": [\n",
      "    {\n",
      "      \"id\": \"0\",\n",
      "      \"Architecture\": \"First 6 Billion\",\n",
      "      \"Duration\": \"GB-seconds / month $0.0000166667 for\",\n",
      "      \"Requests\": \"every GB-second\"\n",
      "    },\n",
      "    {\n",
      "      \"id\": \"20\",\n",
      "      \"Architecture\": \"per 1M\\nrequests\\n1 Next 9 Billion\",\n",
      "      \"Duration\": \"GB-seconds / month $0.000015 for every\",\n",
      "      \"Requests\": \"GB-second\"\n",
      "    },\n",
      "    {\n",
      "      \"id\": \"20\",\n",
      "      \"Architecture\": \"per 1M\\nrequests\\n2 Over 15 Billion\",\n",
      "      \"Duration\": \"GB-seconds / month $0.0000133334 for\",\n",
      "      \"Requests\": \"every GB-second\"\n",
      "    },\n",
      "    {\n",
      "      \"id\": \"20\",\n",
      "      \"Architecture\": \"per 1M\\nrequests\\n3 First\",\n",
      "      \"Duration\": \"7.5 Billion GB-seconds / month $0.0000133334 for\",\n",
      "      \"Requests\": \"every GB-second\"\n",
      "    },\n",
      "    {\n",
      "      \"id\": \"20\",\n",
      "      \"Architecture\": \"per 1M\\nrequests\\n4 Next\",\n",
      "      \"Duration\": \"11.25 Billion GB-seconds / month $0.0000120001 for\",\n",
      "      \"Requests\": \"every GB-second\"\n",
      "    },\n",
      "    {\n",
      "      \"id\": \"20\",\n",
      "      \"Architecture\": \"per 1M\\nrequests\\n5 Over\",\n",
      "      \"Duration\": \"18.75 Billion GB-seconds / month $0.0000106667 for\",\n",
      "      \"Requests\": \"every GB-second\"\n",
      "    },\n",
      "    {\n",
      "      \"id\": \"20\",\n",
      "      \"Architecture\": \"per\",\n",
      "      \"Duration\": \"1M\",\n",
      "      \"Requests\": \"requests\"\n",
      "    }\n",
      "  ]\n",
      "}\n"
     ]
    }
   ],
   "source": [
    "import re\n",
    "import json\n",
    "\n",
    "text = '''Id Architecture Duration Requests\n",
    "0 First 6 Billion GB-seconds / month $0.0000166667 for\n",
    "every GB-second\n",
    "$0.20 per 1M\n",
    "requests\n",
    "1 Next 9 Billion GB-seconds / month $0.000015 for every\n",
    "GB-second\n",
    "$0.20 per 1M\n",
    "requests\n",
    "2 Over 15 Billion GB-seconds / month $0.0000133334 for\n",
    "every GB-second\n",
    "$0.20 per 1M\n",
    "requests\n",
    "3 First 7.5 Billion GB-seconds / month $0.0000133334 for\n",
    "every GB-second\n",
    "$0.20 per 1M\n",
    "requests\n",
    "4 Next 11.25 Billion GB-seconds / month $0.0000120001 for\n",
    "every GB-second\n",
    "$0.20 per 1M\n",
    "requests\n",
    "5 Over 18.75 Billion GB-seconds / month $0.0000106667 for\n",
    "every GB-second\n",
    "$0.20 per 1M\n",
    "requests'''\n",
    "\n",
    "# define the regex pattern\n",
    "pattern = r'(?P<Id>\\d+)\\s+(?P<Architecture>[\\w\\s]+)\\s+(?P<Duration>[^\\n]+)\\s+(?P<Requests>[^\\n]+)'\n",
    "\n",
    "# compile the regex pattern\n",
    "regex = re.compile(pattern)\n",
    "\n",
    "# find all matches in the text\n",
    "matches = regex.findall(text)\n",
    "\n",
    "# create a list of dictionaries from the matches\n",
    "output = [{'id': match[0], 'Architecture': match[1], 'Duration': match[2], 'Requests': match[3]} for match in matches]\n",
    "\n",
    "# create a dictionary with the output list\n",
    "result = {'output': output}\n",
    "\n",
    "# convert the dictionary to JSON format\n",
    "json_result = json.dumps(result, indent=2)\n",
    "\n",
    "print(json_result)\n"
   ]
  },
  {
   "cell_type": "code",
   "execution_count": null,
   "id": "82037145",
   "metadata": {},
   "outputs": [],
   "source": []
  },
  {
   "cell_type": "code",
   "execution_count": null,
   "id": "e819bbad",
   "metadata": {},
   "outputs": [],
   "source": []
  },
  {
   "cell_type": "code",
   "execution_count": 57,
   "id": "08741e2a",
   "metadata": {},
   "outputs": [
    {
     "data": {
      "text/plain": [
       "<re.Match object; span=(455, 475), match='AWS Lambda Pricing\\nI'>"
      ]
     },
     "execution_count": 57,
     "metadata": {},
     "output_type": "execute_result"
    }
   ],
   "source": [
    "pattern = r'AWS Lambda Pricing\\n([\\s\\S]+?)'\n",
    "match = re.search(pattern, text)\n",
    "match\n"
   ]
  },
  {
   "cell_type": "code",
   "execution_count": 58,
   "id": "4f5d8779",
   "metadata": {},
   "outputs": [
    {
     "ename": "IndexError",
     "evalue": "list index out of range",
     "output_type": "error",
     "traceback": [
      "\u001b[1;31m---------------------------------------------------------------------------\u001b[0m",
      "\u001b[1;31mIndexError\u001b[0m                                Traceback (most recent call last)",
      "\u001b[1;32m~\\AppData\\Local\\Temp\\ipykernel_3540\\526881218.py\u001b[0m in \u001b[0;36m<module>\u001b[1;34m\u001b[0m\n\u001b[0;32m      2\u001b[0m     \u001b[0mdata\u001b[0m \u001b[1;33m=\u001b[0m \u001b[0mmatch\u001b[0m\u001b[1;33m.\u001b[0m\u001b[0mgroup\u001b[0m\u001b[1;33m(\u001b[0m\u001b[1;36m1\u001b[0m\u001b[1;33m)\u001b[0m\u001b[1;33m\u001b[0m\u001b[0m\n\u001b[0;32m      3\u001b[0m     \u001b[0mlines\u001b[0m \u001b[1;33m=\u001b[0m \u001b[0mdata\u001b[0m\u001b[1;33m.\u001b[0m\u001b[0msplit\u001b[0m\u001b[1;33m(\u001b[0m\u001b[1;34m'\\n'\u001b[0m\u001b[1;33m)\u001b[0m\u001b[1;33m[\u001b[0m\u001b[1;36m1\u001b[0m\u001b[1;33m:\u001b[0m\u001b[1;33m]\u001b[0m\u001b[1;33m\u001b[0m\u001b[0m\n\u001b[1;32m----> 4\u001b[1;33m     \u001b[0mheadings\u001b[0m \u001b[1;33m=\u001b[0m \u001b[0mlines\u001b[0m\u001b[1;33m[\u001b[0m\u001b[1;36m0\u001b[0m\u001b[1;33m]\u001b[0m\u001b[1;33m.\u001b[0m\u001b[0msplit\u001b[0m\u001b[1;33m(\u001b[0m\u001b[1;33m)\u001b[0m\u001b[1;33m\u001b[0m\u001b[0m\n\u001b[0m\u001b[0;32m      5\u001b[0m     \u001b[0moutput\u001b[0m \u001b[1;33m=\u001b[0m \u001b[1;33m[\u001b[0m\u001b[1;33m]\u001b[0m\u001b[1;33m\u001b[0m\u001b[0m\n\u001b[0;32m      6\u001b[0m     \u001b[1;32mfor\u001b[0m \u001b[0mline\u001b[0m \u001b[1;32min\u001b[0m \u001b[0mlines\u001b[0m\u001b[1;33m[\u001b[0m\u001b[1;36m1\u001b[0m\u001b[1;33m:\u001b[0m\u001b[1;33m]\u001b[0m\u001b[1;33m:\u001b[0m\u001b[1;33m\u001b[0m\u001b[0m\n",
      "\u001b[1;31mIndexError\u001b[0m: list index out of range"
     ]
    }
   ],
   "source": [
    "if match:\n",
    "    data = match.group(1)\n",
    "    lines = data.split('\\n')[1:]\n",
    "    headings = lines[0].split()\n",
    "    output = []\n",
    "    for line in lines[1:]:\n",
    "        if line.strip():\n",
    "            values = line.split()\n",
    "            row = dict(zip(headings, values))\n",
    "            output.append(row)\n",
    "    \n",
    "    print({'output': output})\n",
    "else:\n",
    "    print('Pattern not found.')"
   ]
  },
  {
   "cell_type": "code",
   "execution_count": 50,
   "id": "ebbee0f0",
   "metadata": {},
   "outputs": [
    {
     "name": "stdout",
     "output_type": "stream",
     "text": [
      "{'output': [{'id': '0', 'Architecture': 'First 6 Billion GB-seconds / month', 'Duration': '$0.0000166667 for every GB-second', 'Requests': '$0.20 per 1M requests'}, {'id': '1', 'Architecture': 'Next 9 Billion GB-seconds / month', 'Duration': '$0.000015 for every GB-second', 'Requests': '$0.20 per 1M requests'}, {'id': '2', 'Architecture': 'Over 15 Billion GB-seconds / month', 'Duration': '$0.0000133334 for every GB-second', 'Requests': '$0.20 per 1M requests'}, {'id': '3', 'Architecture': 'First 7.5 Billion GB-seconds / month', 'Duration': '$0.0000133334 for every GB-second', 'Requests': '$0.20 per 1M requests'}, {'id': '4', 'Architecture': 'Next 11.25 Billion GB-seconds / month', 'Duration': '$0.0000120001 for every GB-second', 'Requests': '$0.20 per 1M requests'}, {'id': '5', 'Architecture': 'Over 18.75 Billion GB-seconds / month', 'Duration': '$0.0000106667 for every GB-second', 'Requests': '$0.20 per 1M requests'}]}\n"
     ]
    }
   ],
   "source": [
    "data = [\n",
    "    [\"Id\", \"Architecture\", \"Duration\", \"Requests\"],\n",
    "    [\"0\", \"First 6 Billion GB-seconds / month\", \"$0.0000166667 for every GB-second\", \"$0.20 per 1M requests\"],\n",
    "    [\"1\", \"Next 9 Billion GB-seconds / month\", \"$0.000015 for every GB-second\", \"$0.20 per 1M requests\"],\n",
    "    [\"2\", \"Over 15 Billion GB-seconds / month\", \"$0.0000133334 for every GB-second\", \"$0.20 per 1M requests\"],\n",
    "    [\"3\", \"First 7.5 Billion GB-seconds / month\", \"$0.0000133334 for every GB-second\", \"$0.20 per 1M requests\"],\n",
    "    [\"4\", \"Next 11.25 Billion GB-seconds / month\", \"$0.0000120001 for every GB-second\", \"$0.20 per 1M requests\"],\n",
    "    [\"5\", \"Over 18.75 Billion GB-seconds / month\", \"$0.0000106667 for every GB-second\", \"$0.20 per 1M requests\"]\n",
    "]\n",
    "\n",
    "output = {\"output\": []}\n",
    "\n",
    "for row in data[1:]:\n",
    "    output[\"output\"].append({\n",
    "        \"id\": row[0],\n",
    "        \"Architecture\": row[1],\n",
    "        \"Duration\": row[2],\n",
    "        \"Requests\": row[3]\n",
    "    })\n",
    "\n",
    "print(output)\n"
   ]
  },
  {
   "cell_type": "code",
   "execution_count": null,
   "id": "8456071f",
   "metadata": {},
   "outputs": [],
   "source": []
  }
 ],
 "metadata": {
  "kernelspec": {
   "display_name": "Python 3 (ipykernel)",
   "language": "python",
   "name": "python3"
  },
  "language_info": {
   "codemirror_mode": {
    "name": "ipython",
    "version": 3
   },
   "file_extension": ".py",
   "mimetype": "text/x-python",
   "name": "python",
   "nbconvert_exporter": "python",
   "pygments_lexer": "ipython3",
   "version": "3.7.0"
  }
 },
 "nbformat": 4,
 "nbformat_minor": 5
}
